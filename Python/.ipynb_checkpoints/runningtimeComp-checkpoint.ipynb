{
 "cells": [
  {
   "cell_type": "code",
   "execution_count": 1,
   "metadata": {
    "collapsed": true
   },
   "outputs": [],
   "source": [
    "# -*- coding: utf-8 -*-\n",
    "import numpy as np\n",
    "import matplotlib.pyplot as plt"
   ]
  },
  {
   "cell_type": "code",
   "execution_count": 5,
   "metadata": {
    "collapsed": false
   },
   "outputs": [],
   "source": [
    "n_groups = 3\n",
    "\n",
    "decomposition_binarysearch = [1096.43801474246, 1729.33761384680, 1887.90467178789, 2303.17488903769, 2227.16116236906, 1848.75229361908, 1882.05259765977, 1344.07437235346, 2728.82341619547, 943.732094908232]\n",
    "centralized = [3592.14913831086, 3246.29217008133, 3370.84860369550, 3113.65851691191, 3213.95652940295, 3453.43940733312, 3510.16475319263, 3508.45732670989, 3981.87663894907, 3538.85063831598]\n",
    "decompostion_subgradient = [42080.5311346083, 66825.7385729534, 61990.6273482255, 25589.1873786431, 64501.7971615422]\n",
    "\n",
    "means = [np.mean(decomposition_binarysearch), np.mean(centralized), np.mean(decompostion_subgradient)] # [1923.146677, 3423.23489, 43293.34234]\n",
    "std = [np.std(decomposition_binarysearch), np.std(centralized), np.std(decompostion_subgradient)] # [968.345, 352.234, 20399.234]\n",
    "# means = [1923.146677, 3423.23489, 43293.34234]\n",
    "# std = [968.345, 352.234, 20399.234]\n",
    "# print means\n",
    "# print std\n",
    "index = np.arange(n_groups)\n",
    "error_config = {'ecolor': '0.3'}\n",
    "opacity = 0.4\n",
    "bar_width = 0.35\n",
    "rects1 = plt.bar(index + 0.5 * bar_width, means, bar_width, fill=False, yerr=std, error_kw=error_config)\n",
    "plt.xticks(index + bar_width, ('Decomposition\\nBinary Search', 'Centralized', 'Decomposition\\nSubgradient'))\n",
    "plt.ticklabel_format(style='sci', axis='y', scilimits=(0,0))\n",
    "plt.ylabel('Running time/s')\n",
    "# plt.show()\n",
    "plt.savefig('runningtime.eps')"
   ]
  },
  {
   "cell_type": "code",
   "execution_count": null,
   "metadata": {
    "collapsed": false
   },
   "outputs": [],
   "source": []
  },
  {
   "cell_type": "code",
   "execution_count": null,
   "metadata": {
    "collapsed": true
   },
   "outputs": [],
   "source": []
  }
 ],
 "metadata": {
  "kernelspec": {
   "display_name": "Python 2",
   "language": "python",
   "name": "python2"
  },
  "language_info": {
   "codemirror_mode": {
    "name": "ipython",
    "version": 2
   },
   "file_extension": ".py",
   "mimetype": "text/x-python",
   "name": "python",
   "nbconvert_exporter": "python",
   "pygments_lexer": "ipython2",
   "version": "2.7.12"
  }
 },
 "nbformat": 4,
 "nbformat_minor": 0
}
